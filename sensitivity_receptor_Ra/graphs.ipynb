{
 "cells": [
  {
   "cell_type": "markdown",
   "metadata": {},
   "source": [
    "# Sensitivity analysis for the  receptor model (Ra as output)\n",
    "\n",
    "# Receptor model (Ra as output)\n",
    "\n",
    "$$\\frac{\\mathrm{d} R_{r}}{\\mathrm{d} t} =  k_{i}R_{i} -k_{r}*S*R_{r}$$\n",
    "\n",
    "$$\\frac{\\mathrm{d} R_{i}}{\\mathrm{d} t} = k_{a}R_{a}   +k_{Ma}*M_{2}*R_{a} - k_{i}R_{i}$$\n",
    "\n",
    "$$\\frac{\\mathrm{d} R_{a}}{\\mathrm{d} t} = k_{r}*S*R_{r}  -k_{Ma}*M_{2}*R_{a} - k_{a}R_{a} $$\n",
    "\n",
    "$$\\frac{\\mathrm{d} I_{2}}{\\mathrm{d} t} = k_{Ia2}*R_{a}*(1-I_{2})-k_{Ii2}I_{2}$$\n",
    "\n",
    "$$\\frac{\\mathrm{d} M_{2}}{\\mathrm{d} t} = k_{Ma2}*R_{2}*(1-M_{2})-k_{Mi2}M_{2}$$\n",
    "\n",
    "\n",
    "$$\\frac{\\mathrm{d} R_{2}}{\\mathrm{d} t} = k_{Ra2}*I_{2}*(1-R_{2})-k_{Ri2}R_2$$"
   ]
  },
  {
   "cell_type": "code",
   "execution_count": 1,
   "metadata": {},
   "outputs": [],
   "source": [
    "import numpy as np\n",
    "import matplotlib.pyplot as plt"
   ]
  },
  {
   "cell_type": "code",
   "execution_count": 2,
   "metadata": {},
   "outputs": [],
   "source": [
    "def ldata(archive):\n",
    "    f=open(archive)\n",
    "    data=[]\n",
    "    for line in f:\n",
    "        e=line.strip()\n",
    "        col=line.split()\n",
    "        data.append(col)\t\n",
    "    return data"
   ]
  },
  {
   "cell_type": "code",
   "execution_count": 3,
   "metadata": {},
   "outputs": [],
   "source": [
    "data=ldata(\"sensitivity_receptor_Ra.txt\")\n",
    "data_float=[]\n",
    "for i in data:\n",
    "  data_float.append([float(i[0]), float(i[1])])"
   ]
  },
  {
   "cell_type": "code",
   "execution_count": 4,
   "metadata": {},
   "outputs": [],
   "source": [
    "positive_data = []\n",
    "negative_data = []\n",
    "for i in data_float:\n",
    "    positive_data.append(i[0])\n",
    "    negative_data.append(i[1])"
   ]
  },
  {
   "cell_type": "code",
   "execution_count": 5,
   "metadata": {},
   "outputs": [
    {
     "data": {
      "image/png": "[encoded data removed]",
      "text/plain": [
       "<Figure size 640x480 with 1 Axes>"
      ]
     },
     "metadata": {},
     "output_type": "display_data"
    }
   ],
   "source": [
    "# some example data\n",
    "threshold = 0.0\n",
    "\n",
    "x= [r\"$k_{r}$\", r\"$k_{a}$\", r\"$k_{i}$\", r\"$k_{Ma}$\",r\"$k_{Ia2}$\",r\"$k_{Ii2}$\",r\"$k_{Ra2}$\",r\"$k_{Ri2}$\",r\"$k_{Ma2}$\",r\"$k_{Mi2}$\"]\n",
    "\n",
    "\n",
    "# and plot it\n",
    "fig, ax = plt.subplots()\n",
    "\n",
    "ax.bar(x, negative_data, width=0.5, color='grey')\n",
    "ax.bar(x, positive_data, width=0.5, color='grey')\n",
    "\n",
    "# horizontal line indicating the threshold\n",
    "ax.plot([-0.5, 12.5], [threshold, threshold], 'w', lw=\"1.5\")\n",
    "plt.hlines(0.25, -0.5, 10.5, color='grey', alpha=0.5)\n",
    "plt.hlines(0.5, -0.5, 10.5, color='grey', alpha=0.5)\n",
    "plt.hlines(0.75, -0.5, 10.5, color='grey', alpha=0.5)\n",
    "plt.hlines(1.0, -0.5, 10.5, color='grey', alpha=0.5)\n",
    "plt.hlines(-0.25, -0.5, 10.5, color='grey', alpha=0.5)\n",
    "plt.hlines(-0.5, -0.5, 10.5, color='grey', alpha=0.5)\n",
    "plt.hlines(-0.75, -0.5, 10.5, color='grey', alpha=0.5)\n",
    "plt.hlines(-1.0, -0.5, 10.5, color='grey', alpha=0.5)\n",
    "plt.xticks(rotation = 45)\n",
    "plt.ylabel(r\"$log_{10}$ perturbation\")\n",
    "plt.xlim((-0.670,9.5))\n",
    "plt.show()"
   ]
  }
 ],
 "metadata": {
  "kernelspec": {
   "display_name": "Python 3.9.12 ('base')",
   "language": "python",
   "name": "python3"
  },
  "language_info": {
   "codemirror_mode": {
    "name": "ipython",
    "version": 3
   },
   "file_extension": ".py",
   "mimetype": "text/x-python",
   "name": "python",
   "nbconvert_exporter": "python",
   "pygments_lexer": "ipython3",
   "version": "3.11.3"
  },
  "orig_nbformat": 4,
  "vscode": {
   "interpreter": {
    "hash": "1d0c3caab67cdc3cb671aad33f4d3ea243842a14d4ea407190d5b54cd82f317a"
   }
  }
 },
 "nbformat": 4,
 "nbformat_minor": 2
}
