{
 "cells": [
  {
   "cell_type": "markdown",
   "id": "e419fb45",
   "metadata": {},
   "source": []
  },
  {
   "cell_type": "code",
   "execution_count": 16,
   "id": "e9926116",
   "metadata": {},
   "outputs": [],
   "source": [
    "CODE = '/Users/Lina/Documents/GitHub/habituation'\n",
    "CODE=\"./\"\n",
    "#import sys, path, os\n",
    "import sys,os\n",
    "import numpy as np\n",
    "import matplotlib.pyplot as plt\n",
    "from scipy.integrate import odeint\n",
    "\n",
    "sys.path.append(CODE)\n",
    "import system\n",
    "from calc_util import sliding_maxnorm_ht\n",
    "from adaint import integrate, default_steps_per_time, integrate2, default_h_max\n",
    "  \n",
    "\n",
    "#%% definitions\n",
    "\n",
    "def simulate(f, p, X0, T, Ton, Amin, Amax,  N=20, hmax=0):\n",
    "    \n",
    "    # comment\n",
    "    mys = system.System(f, p, X0, output_var_idx=-1, steps_per_time=100, hmax=hmax)\n",
    "    mys.T = T\n",
    "    mys.Ton = Ton\n",
    "    mys.Amin = Amin\n",
    "    mys.Amax = Amax\n",
    "    \n",
    "\n",
    "    \n",
    "    ### apply N stimuli\n",
    "    for i in range(0, N):\n",
    "        # update initial condition and tvec\n",
    "        if i==0:\n",
    "            X = X0\n",
    "            tvec_ = np.linspace(0, T, T*100)\n",
    "        else:\n",
    "            X = singlepeak_[-1, :]\n",
    "            X[X < 0] = 0.0 \n",
    "            tvec_ = np.linspace(tvec_[-1], tvec_[-1]+T, T*100)\n",
    "            \n",
    "        # integrate single stimulus\n",
    "        _ , singlepeak_ = mys.apply_singlestimulus(X, T=T, Ton=Ton, Amin=Amin, Amax=Amax, \n",
    "                                                  tvec=None)\n",
    "        if i==0:\n",
    "            traj = singlepeak_\n",
    "            tvec = tvec_\n",
    "        else:    \n",
    "            traj = np.concatenate([traj, singlepeak_])\n",
    "            tvec = np.concatenate([tvec, tvec_])\n",
    "            \n",
    "        \n",
    "    return [tvec, traj]\n"
   ]
  },
  {
   "cell_type": "code",
   "execution_count": 17,
   "id": "fcab88ce",
   "metadata": {},
   "outputs": [],
   "source": [
    "from scipy.signal import argrelmax, find_peaks\n",
    "import matplotlib as mpl\n",
    "from matplotlib.gridspec import GridSpec\n"
   ]
  },
  {
   "cell_type": "code",
   "execution_count": 63,
   "id": "b141240b",
   "metadata": {},
   "outputs": [],
   "source": [
    "# CONCATENATED FEEDFORWARD\n",
    "def f(X, t, S, kIa1, kIi1, kMa1, kMi1, kRa1, kRi1, K_1, kIa2, kIi2, kMa2, kMi2, kRa2, kRi2, K_2): \n",
    "    # starting values \n",
    "    I1, M1, R1, I2, M2, R2 = X\n",
    "    # ODEs\n",
    "    dI1 = S*kIa1*(1.0-I1) - kIi1*I1\n",
    "    dM1 = I1*kMa1*(1.0-M1) - kMi1*M1\n",
    "    dR1 = I1*kRa1*(1.0-R1) - M1*kRi1*R1/(K_1+R1)\n",
    "    dI2 = R1*kIa2*(1.0-I2) - kIi2*I2\n",
    "    dM2 = I2*kMa2*(1.0-M2) - kMi2*M2\n",
    "    dR2 = I2*kRa2*(1.0-R2) - M2*kRi2*R2/(K_2+R2)\n",
    "\n",
    "    return(dI1, dM1, dR1, dI2, dM2, dR2)\n",
    "\n",
    "p = [ 0.023, 30, 17.7071, 0.038241, 57.9236, 1.39117, 0.0001, \n",
    "            0.016011, 14.3342,  4.33609, 0.001471, 26.1702, 45.9986, 0.79082] #only rates and ODE parameters\n",
    "Ton = 1\n",
    "Amin = 0.0"
   ]
  },
  {
   "cell_type": "code",
   "execution_count": 179,
   "id": "69ce363c",
   "metadata": {},
   "outputs": [],
   "source": [
    "mpl.rcParams[\"font.size\"]=16"
   ]
  },
  {
   "cell_type": "code",
   "execution_count": 180,
   "id": "44301fbd",
   "metadata": {},
   "outputs": [
    {
     "name": "stdout",
     "output_type": "stream",
     "text": [
      "../../habituation/2023_paper/figs/Fig_example.svg\n",
      "../../habituation/2023_paper/figs/Fig_example.pdf\n"
     ]
    },
    {
     "data": {
      "image/png": "[encoded data removed]",
      "text/plain": [
       "<Figure size 576x288 with 1 Axes>"
      ]
     },
     "metadata": {
      "needs_background": "light"
     },
     "output_type": "display_data"
    }
   ],
   "source": [
    "X0 = [0,0,0,0,0,0] \n",
    "\n",
    "\n",
    "color=\"k\"\n",
    "\n",
    "T=40\n",
    "Amax=25\n",
    "N=15\n",
    "fig,ax=plt.subplots(1,1,figsize=(8,4))\n",
    "    \n",
    "kwargs={\"N\":N, \"hmax\":0.01}\n",
    "       \n",
    "parameter_list=[f, p, X0, T, Ton, Amin, Amax]\n",
    "        \n",
    "x, y= simulate(*parameter_list, N=N)\n",
    "ax.plot(x,y[:,-1],color=\"k\")\n",
    "      \n",
    "ax.set_xlabel(\"time\")\n",
    "ax.set_ylabel(\"response\")\n",
    "ax.spines[['right', 'top']].set_visible(False)\n",
    "\n",
    "for i in range(0,T*N, T):\n",
    "    ax.arrow(i, 0.0205, 0,-0.002, width=0.1*0.1, head_width=10,head_length=0.0005,color=\"gray\") #max(y[:,-1])*1.1\n",
    "    #ax.scatter(i,,marker=\"\")\n",
    "ax.text(300,0.022,\"repetitive stimuli\",horizontalalignment=\"center\",color=\"gray\")\n",
    "ax.set_ylim(0,None)\n",
    "ax.set_yticks([])\n",
    "plt.tight_layout()\n",
    "namesave=\"../../habituation/2023_paper/figs/Fig_example.svg\"\n",
    "print(namesave)\n",
    "plt.savefig(namesave,bbox_inches=\"tight\")\n",
    "namesave=namesave.replace(\".svg\",\".pdf\")\n",
    "print(namesave)\n",
    "plt.savefig(namesave,bbox_inches=\"tight\")\n",
    "plt.show()\n",
    "\n",
    "\n",
    "\n",
    "\n"
   ]
  },
  {
   "cell_type": "code",
   "execution_count": 128,
   "id": "7a7cf65a",
   "metadata": {},
   "outputs": [
    {
     "data": {
      "text/plain": [
       "<matplotlib.patches.FancyArrow at 0x2986ddb40>"
      ]
     },
     "execution_count": 128,
     "metadata": {},
     "output_type": "execute_result"
    },
    {
     "data": {
      "image/png": "[encoded data removed]",
      "text/plain": [
       "<Figure size 216x144 with 1 Axes>"
      ]
     },
     "metadata": {
      "needs_background": "light"
     },
     "output_type": "display_data"
    }
   ],
   "source": [
    "fig,ax=plt.subplots(1,1,figsize=(3,2))\n",
    "ax.arrow(2,0.02, 0,-0.01, width=0.1*0.1, head_width=1*0.1,head_length=0.02) #max(y[:,-1])*1.1"
   ]
  },
  {
   "cell_type": "code",
   "execution_count": null,
   "id": "61e2627e",
   "metadata": {},
   "outputs": [],
   "source": []
  }
 ],
 "metadata": {
  "kernelspec": {
   "display_name": "Python 3 (ipykernel)",
   "language": "python",
   "name": "python3"
  },
  "language_info": {
   "codemirror_mode": {
    "name": "ipython",
    "version": 3
   },
   "file_extension": ".py",
   "mimetype": "text/x-python",
   "name": "python",
   "nbconvert_exporter": "python",
   "pygments_lexer": "ipython3",
   "version": "3.10.8"
  }
 },
 "nbformat": 4,
 "nbformat_minor": 5
}
